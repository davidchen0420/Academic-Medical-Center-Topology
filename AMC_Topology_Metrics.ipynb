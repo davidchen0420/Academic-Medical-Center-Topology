{
 "cells": [
  {
   "cell_type": "code",
   "execution_count": 27,
   "id": "e513ec3a",
   "metadata": {},
   "outputs": [],
   "source": [
    "import csv\n",
    "import pandas as pd\n",
    "import numpy as np\n",
    "from operator import itemgetter\n",
    "import networkx as nx\n",
    "from networkx.algorithms import community\n",
    "import networkx.algorithms.community as nx_comm\n",
    "from functools import reduce\n",
    "import matplotlib.pyplot as plt\n",
    "import os\n",
    "import glob\n",
    "from tqdm import tqdm\n",
    "import seaborn as sns\n",
    "from adjustText import adjust_text"
   ]
  },
  {
   "cell_type": "code",
   "execution_count": 2,
   "id": "ee98fdc7",
   "metadata": {},
   "outputs": [],
   "source": [
    "file_names = sorted(glob.glob('/Users/davidchen/Documents/GitHub/Topology/amc_topology/Cleaned_Dataset/*.csv', recursive=True))"
   ]
  },
  {
   "cell_type": "code",
   "execution_count": 3,
   "id": "c76780d9",
   "metadata": {},
   "outputs": [],
   "source": [
    "unique_sites = [x.strip() for x in list(set([x.split(\"/\")[-1].split(\"-\")[0] for x in file_names]))]"
   ]
  },
  {
   "cell_type": "code",
   "execution_count": 4,
   "id": "a6ed4806",
   "metadata": {},
   "outputs": [],
   "source": [
    "folder = '/Users/davidchen/Documents/GitHub/Topology/amc_topology/Cleaned_Dataset'"
   ]
  },
  {
   "cell_type": "markdown",
   "id": "c9cdb699",
   "metadata": {},
   "source": [
    "# Function"
   ]
  },
  {
   "cell_type": "code",
   "execution_count": 35,
   "id": "f23c6a75",
   "metadata": {},
   "outputs": [],
   "source": [
    "def topology(folder, name, node, edge):\n",
    "    \n",
    "    #Read Data \n",
    "\n",
    "    with open(node, 'r') as nodecsv: # Open the file\n",
    "        nodereader = csv.reader(nodecsv) # Read the csv\n",
    "        # Retrieve the data (using Python list comprhension and list slicing to remove the header row, see footnote 3)\n",
    "        nodes = [n for n in nodereader][1:]\n",
    "\n",
    "    node_names = [n[1] for n in nodes] # Get a list of only the node names\n",
    "\n",
    "    with open(edge, 'r') as edgecsv: # Open the file\n",
    "        edgereader = csv.reader(edgecsv) # Read the csv\n",
    "        edges = [tuple(e[1:3]) for e in edgereader][1:] # Retrieve the data\n",
    "        edges = [x for x in edges if x[0] != x[1]] # Remove circular edges; link to itself\n",
    "\n",
    "    #Build Network\n",
    "\n",
    "    G = nx.Graph()\n",
    "    G.add_nodes_from(node_names)\n",
    "    G.add_edges_from(edges)\n",
    "\n",
    "    #Remove isolated components\n",
    "\n",
    "    connected_components_size = [len(x) for x in nx.connected_components(G)]\n",
    "    if len(connected_components_size) == 1:\n",
    "        isolated_n = 0\n",
    "    else:\n",
    "        isolated_n = max(n for n in connected_components_size if n!=max(connected_components_size))\n",
    "\n",
    "    G.remove_nodes_from(list(nx.isolates(G)))\n",
    "\n",
    "    for component in list(nx.connected_components(G)):\n",
    "        if len(component)<=isolated_n:\n",
    "            for node in component:\n",
    "                G.remove_node(node)\n",
    "\n",
    "    degree_dict = dict(G.degree(G.nodes()))\n",
    "    nx.set_node_attributes(G, degree_dict, 'degree')\n",
    "\n",
    "    #Network-wide metrics\n",
    "    n_nodes = G.number_of_nodes()\n",
    "    n_edges = G.number_of_edges()\n",
    "    n_components = nx.number_connected_components(G)\n",
    "    avg_path_length = nx.average_shortest_path_length(G)\n",
    "    density = nx.density(G)\n",
    "    diameter = nx.diameter(G)\n",
    "    transitivity = nx.transitivity(G)\n",
    "    avg_clustering = nx.average_clustering(G)\n",
    "    avg_degree = np.mean(list(dict(G.degree()).values()))\n",
    "    assortativity = nx.degree_pearson_correlation_coefficient(G)\n",
    "    modularity = nx_comm.modularity(G, nx_comm.label_propagation_communities(G))\n",
    "    n_communities = len(nx_comm.label_propagation_communities(G))\n",
    "\n",
    "    network_df = pd.DataFrame(columns = ['Name', 'Nodes', 'Edges', 'Average Degree', 'Number of Connected Components', 'Average Shortest Path Length', 'Density', 'Diameter', 'Transitivity', 'Average Clustering', 'Assortativity', 'Modularity', 'Number of Communities'])       \n",
    "    network_df.loc[len(network_df), :] = [name, n_nodes, n_edges, avg_degree, n_components, avg_path_length, density, diameter, transitivity, avg_clustering, assortativity, modularity, n_communities]\n",
    "\n",
    "    if os.path.isfile(folder + \"/\" + \"summary_network_metrics.tsv\") is True:\n",
    "        network_df.to_csv(folder + \"/\" + \"summary_network_metrics.tsv\", sep=\"\\t\", header=False, index=False, mode=\"a\")\n",
    "    else:\n",
    "        network_df.to_csv(folder + \"/\" + \"summary_network_metrics.tsv\", sep=\"\\t\", index=False, mode=\"w\")\n",
    "\n",
    "    #Node-specific metrics\n",
    "    betweenness = nx.betweenness_centrality(G, normalized=False)\n",
    "    eigenvector = nx.eigenvector_centrality_numpy(G)\n",
    "    closeness = nx.closeness_centrality(G)\n",
    "    eccentricity = nx.eccentricity(G)\n",
    "    pr = nx.pagerank(G, alpha=0.85)\n",
    "    clustering = nx.clustering(G)\n",
    "\n",
    "    nx.set_node_attributes(G, G.degree(), 'degree')\n",
    "    nx.set_node_attributes(G, betweenness, 'betweenness')\n",
    "    nx.set_node_attributes(G, eigenvector, 'eigenvector')\n",
    "    nx.set_node_attributes(G, closeness, 'closeness')\n",
    "    nx.set_node_attributes(G, eccentricity, 'eccentricity')\n",
    "    nx.set_node_attributes(G, pr, 'pagerank')\n",
    "    nx.set_node_attributes(G, clustering, 'clustering')\n",
    "\n",
    "    degree_df = pd.DataFrame.from_dict(data = dict(G.degree()).items())\n",
    "    degree_df.columns = ['Node', 'Degree']\n",
    "\n",
    "    betweenness_df = pd.DataFrame.from_dict(data = betweenness.items())\n",
    "    betweenness_df.columns = ['Node', 'Betweenness']\n",
    "\n",
    "    eigenvector_df = pd.DataFrame.from_dict(data = eigenvector.items())\n",
    "    eigenvector_df.columns = ['Node', 'Eigenvector']\n",
    "\n",
    "    closeness_df = pd.DataFrame.from_dict(data = closeness.items())\n",
    "    closeness_df.columns = ['Node', 'Closeness']\n",
    "\n",
    "    eccentricity_df = pd.DataFrame.from_dict(data = eccentricity.items())\n",
    "    eccentricity_df.columns = ['Node', 'Eccentricity']\n",
    "\n",
    "    pr_df = pd.DataFrame.from_dict(data = pr.items())\n",
    "    pr_df.columns = ['Node', 'PageRank']\n",
    "\n",
    "    clustering_df = pd.DataFrame.from_dict(data = clustering.items())\n",
    "    clustering_df.columns = ['Node', 'Clustering']\n",
    "\n",
    "    node_metrics_df = reduce(lambda left,right: pd.merge(left,right,on='Node'), [degree_df, betweenness_df,  eigenvector_df, closeness_df, eccentricity_df, pr_df, clustering_df])\n",
    "\n",
    "    node_metrics_df.to_csv(folder + \"/\" + name + \"_node_metrics.tsv\", sep=\"\\t\", index=False)\n",
    "    #Network Visualization\n",
    "\n",
    "    plt.figure(1, figsize=(20,20)) \n",
    "    nx.draw(G, \n",
    "            pos = nx.spring_layout(G,scale=5, iterations=100),\n",
    "            node_size = [x*10 for x in list(dict(G.degree).values())],\n",
    "            edgecolors = \"black\")\n",
    "    plt.savefig(folder + \"/\" + name + '_network.png', dpi=300)\n",
    "    plt.close()\n"
   ]
  },
  {
   "cell_type": "code",
   "execution_count": 37,
   "id": "c56665d9",
   "metadata": {},
   "outputs": [
    {
     "name": "stderr",
     "output_type": "stream",
     "text": [
      "100%|████████████████████████████████████████| 40/40 [1:36:59<00:00, 145.48s/it]\n"
     ]
    }
   ],
   "source": [
    "for site in tqdm(unique_sites):\n",
    "    name = site\n",
    "    files_matching_name = [s for s in file_names if site in s]\n",
    "\n",
    "    node = [s for s in files_matching_name if \"Node\" in s][0]\n",
    "    edge = [s for s in files_matching_name if \"Internal\" in s][0]\n",
    "\n",
    "    if os.path.isfile(folder + \"/\" + name + \"_node_metrics.tsv\"):\n",
    "        print(\"Topology Analysis already complete: \" + str(name))\n",
    "    else:\n",
    "        if (len(node) > 0) & (len(edge) > 0):\n",
    "            try:\n",
    "                topology(folder = folder,\n",
    "                    name = name, \n",
    "                     node = node, \n",
    "                     edge = edge)\n",
    "            except:\n",
    "                print(\"Failed Topology Analysis: \" + str(name))\n",
    "        else:\n",
    "            print(\"No Nodes or Edges Detected: \" + str(name))\n",
    "            \n",
    "            "
   ]
  },
  {
   "cell_type": "markdown",
   "id": "3567adc1",
   "metadata": {},
   "source": [
    "# Metrics Visualization"
   ]
  },
  {
   "cell_type": "code",
   "execution_count": 7,
   "id": "d61c71eb",
   "metadata": {},
   "outputs": [],
   "source": [
    "summary_metrics = pd.read_csv(folder + \"/\" + \"summary_network_metrics.tsv\", sep=\"\\t\")"
   ]
  },
  {
   "cell_type": "code",
   "execution_count": 23,
   "id": "718363c6",
   "metadata": {
    "scrolled": false
   },
   "outputs": [
    {
     "name": "stderr",
     "output_type": "stream",
     "text": [
      "/var/folders/pf/xlkzjprs0y9dl__s0925l7tc0000gn/T/ipykernel_2379/1796272255.py:6: UserWarning: FixedFormatter should only be used together with FixedLocator\n",
      "  ax[0].set_xticklabels(summary_metrics['Name'], rotation=45, ha=\"right\")\n",
      "/var/folders/pf/xlkzjprs0y9dl__s0925l7tc0000gn/T/ipykernel_2379/1796272255.py:10: UserWarning: FixedFormatter should only be used together with FixedLocator\n",
      "  ax[1].set_xticklabels(summary_metrics['Name'], rotation=45, ha=\"right\")\n",
      "/var/folders/pf/xlkzjprs0y9dl__s0925l7tc0000gn/T/ipykernel_2379/1796272255.py:14: UserWarning: FixedFormatter should only be used together with FixedLocator\n",
      "  ax[2].set_xticklabels(summary_metrics['Name'], rotation=45, ha=\"right\")\n",
      "/var/folders/pf/xlkzjprs0y9dl__s0925l7tc0000gn/T/ipykernel_2379/1796272255.py:18: UserWarning: FixedFormatter should only be used together with FixedLocator\n",
      "  ax[3].set_xticklabels(summary_metrics['Name'], rotation=45, ha=\"right\")\n",
      "/var/folders/pf/xlkzjprs0y9dl__s0925l7tc0000gn/T/ipykernel_2379/1796272255.py:22: UserWarning: FixedFormatter should only be used together with FixedLocator\n",
      "  ax[4].set_xticklabels(summary_metrics['Name'], rotation=45, ha=\"right\")\n",
      "/var/folders/pf/xlkzjprs0y9dl__s0925l7tc0000gn/T/ipykernel_2379/1796272255.py:26: UserWarning: FixedFormatter should only be used together with FixedLocator\n",
      "  ax[5].set_xticklabels(summary_metrics['Name'], rotation=45, ha=\"right\")\n",
      "/var/folders/pf/xlkzjprs0y9dl__s0925l7tc0000gn/T/ipykernel_2379/1796272255.py:30: UserWarning: FixedFormatter should only be used together with FixedLocator\n",
      "  ax[6].set_xticklabels(summary_metrics['Name'], rotation=45, ha=\"right\")\n",
      "/var/folders/pf/xlkzjprs0y9dl__s0925l7tc0000gn/T/ipykernel_2379/1796272255.py:34: UserWarning: FixedFormatter should only be used together with FixedLocator\n",
      "  ax[7].set_xticklabels(summary_metrics['Name'], rotation=45, ha=\"right\")\n",
      "/var/folders/pf/xlkzjprs0y9dl__s0925l7tc0000gn/T/ipykernel_2379/1796272255.py:38: UserWarning: FixedFormatter should only be used together with FixedLocator\n",
      "  ax[8].set_xticklabels(summary_metrics['Name'], rotation=45, ha=\"right\")\n",
      "/var/folders/pf/xlkzjprs0y9dl__s0925l7tc0000gn/T/ipykernel_2379/1796272255.py:42: UserWarning: FixedFormatter should only be used together with FixedLocator\n",
      "  ax[9].set_xticklabels(summary_metrics['Name'], rotation=45, ha=\"right\")\n",
      "/var/folders/pf/xlkzjprs0y9dl__s0925l7tc0000gn/T/ipykernel_2379/1796272255.py:46: UserWarning: FixedFormatter should only be used together with FixedLocator\n",
      "  ax[10].set_xticklabels(summary_metrics['Name'], rotation=45, ha=\"right\")\n"
     ]
    },
    {
     "data": {
      "image/png": "[encoded data removed]",
      "text/plain": [
       "<Figure size 720x1080 with 11 Axes>"
      ]
     },
     "metadata": {
      "needs_background": "light"
     },
     "output_type": "display_data"
    }
   ],
   "source": [
    "palette = sns.color_palette(\"Reds\", 11)\n",
    "\n",
    "fig, ax = plt.subplots(11, 1, figsize=(10,15), sharex=True)\n",
    "ax[0].bar(summary_metrics['Name'], summary_metrics['Nodes'], edgecolor=\"black\", color=palette[0])\n",
    "ax[0].set_title(\"Number of Nodes\")\n",
    "ax[0].set_xticklabels(summary_metrics['Name'], rotation=45, ha=\"right\")\n",
    "\n",
    "ax[1].bar(summary_metrics['Name'], summary_metrics['Edges'], edgecolor=\"black\", color=palette[1])\n",
    "ax[1].set_title(\"Number of Edges\")\n",
    "ax[1].set_xticklabels(summary_metrics['Name'], rotation=45, ha=\"right\")\n",
    "\n",
    "ax[2].bar(summary_metrics['Name'], summary_metrics['Average Degree'], edgecolor=\"black\", color=palette[2])\n",
    "ax[2].set_title(\"Average Degree\")\n",
    "ax[2].set_xticklabels(summary_metrics['Name'], rotation=45, ha=\"right\")\n",
    "\n",
    "ax[3].bar(summary_metrics['Name'], summary_metrics['Density'], edgecolor=\"black\", color=palette[3])\n",
    "ax[3].set_title(\"Density\")\n",
    "ax[3].set_xticklabels(summary_metrics['Name'], rotation=45, ha=\"right\")\n",
    "\n",
    "ax[4].bar(summary_metrics['Name'], summary_metrics['Diameter'], edgecolor=\"black\", color=palette[4])\n",
    "ax[4].set_title(\"Diameter\")\n",
    "ax[4].set_xticklabels(summary_metrics['Name'], rotation=45, ha=\"right\")\n",
    "\n",
    "ax[5].bar(summary_metrics['Name'], summary_metrics['Average Shortest Path Length'], edgecolor=\"black\", color=palette[5])\n",
    "ax[5].set_title(\"Average Shortest Path Length\")\n",
    "ax[5].set_xticklabels(summary_metrics['Name'], rotation=45, ha=\"right\")\n",
    "\n",
    "ax[6].bar(summary_metrics['Name'], summary_metrics['Transitivity'], edgecolor=\"black\", color=palette[6])\n",
    "ax[6].set_title(\"Transitivity\")\n",
    "ax[6].set_xticklabels(summary_metrics['Name'], rotation=45, ha=\"right\")\n",
    "\n",
    "ax[7].bar(summary_metrics['Name'], summary_metrics['Average Clustering'], edgecolor=\"black\", color=palette[7])\n",
    "ax[7].set_title(\"Average Clustering\")\n",
    "ax[7].set_xticklabels(summary_metrics['Name'], rotation=45, ha=\"right\")\n",
    "\n",
    "ax[8].bar(summary_metrics['Name'], summary_metrics['Assortativity'], edgecolor=\"black\", color=palette[8])\n",
    "ax[8].set_title('Assortativity')\n",
    "ax[8].set_xticklabels(summary_metrics['Name'], rotation=45, ha=\"right\")\n",
    "\n",
    "ax[9].bar(summary_metrics['Name'], summary_metrics['Modularity'], edgecolor=\"black\", color=palette[9])\n",
    "ax[9].set_title('Modularity')\n",
    "ax[9].set_xticklabels(summary_metrics['Name'], rotation=45, ha=\"right\")\n",
    "\n",
    "ax[10].bar(summary_metrics['Name'], summary_metrics['Number of Communities'], edgecolor=\"black\", color=palette[10])\n",
    "ax[10].set_title('Number of Communities')\n",
    "ax[10].set_xticklabels(summary_metrics['Name'], rotation=45, ha=\"right\")\n",
    "\n",
    "plt.tight_layout()\n",
    "plt.show()"
   ]
  },
  {
   "cell_type": "code",
   "execution_count": 24,
   "id": "1e2ee5df",
   "metadata": {},
   "outputs": [],
   "source": [
    "from sklearn.decomposition import PCA\n",
    "from sklearn.preprocessing import StandardScaler\n",
    "import seaborn as sns"
   ]
  },
  {
   "cell_type": "code",
   "execution_count": 25,
   "id": "d90bb165",
   "metadata": {},
   "outputs": [],
   "source": [
    "scaler = StandardScaler()\n",
    "scaled_data = scaler.fit_transform(summary_metrics.iloc[:,1:].values)\n",
    "\n",
    "pca = PCA(n_components=2)\n",
    "sample_pca = pca.fit_transform(scaled_data)"
   ]
  },
  {
   "cell_type": "code",
   "execution_count": 33,
   "id": "41b8202c",
   "metadata": {},
   "outputs": [],
   "source": [
    "sample_pca_df = pd.DataFrame(sample_pca)\n",
    "sample_pca_df['Network'] = summary_metrics['Name']"
   ]
  },
  {
   "cell_type": "code",
   "execution_count": 51,
   "id": "094a8244",
   "metadata": {},
   "outputs": [
    {
     "data": {
      "image/png": "[encoded data removed]",
      "text/plain": [
       "<Figure size 720x720 with 1 Axes>"
      ]
     },
     "metadata": {
      "needs_background": "light"
     },
     "output_type": "display_data"
    }
   ],
   "source": [
    "fig, ax = plt.subplots(1, 1, figsize=(10, 10))\n",
    "sns.scatterplot(x=sample_pca[:,0], y=sample_pca[:,1], ax=ax, color=\"black\")\n",
    "\n",
    "for x in range(40):\n",
    "    ax.text(sample_pca[x,0]+0.02, sample_pca[x,1]+0.02, summary_metrics['Name'][x])\n",
    "\n",
    "#texts = []\n",
    "#for x in range(len(sample_pca_df)):\n",
    "#    texts.append(plt.text(sample_pca_df.loc[x, 0], sample_pca_df.loc[x, 1], sample_pca_df.loc[x, \"Network\"], bbox=dict(facecolor='none', edgecolor='black', boxstyle='round')))#\n",
    "\n",
    "#adjust_text(texts,  only_move = {'points':'xy', 'text':'xy', 'objects':'xy'},\n",
    "#            arrowprops=dict(arrowstyle=\"-\", color='grey', lw=1),\n",
    "#           force_points=0,\n",
    "#           force_text=50,\n",
    "#           force_objects=50,\n",
    "#           va=\"center\",\n",
    "#           precision=5000,\n",
    "#           expand_text=(1.2, 1.5))\n",
    "\n",
    "ax.set_xlabel(\"Principal Component 1 (\" + str(round(pca.explained_variance_ratio_[0] * 100, 1)) + \"%)\", size=20)\n",
    "ax.set_ylabel(\"Principal Component 2 (\" + str(round(pca.explained_variance_ratio_[1] * 100, 1)) + \"%)\", size=20)\n",
    "plt.show()\n"
   ]
  },
  {
   "cell_type": "code",
   "execution_count": 47,
   "id": "a1ff77be",
   "metadata": {
    "scrolled": false
   },
   "outputs": [
    {
     "data": {
      "image/png": "[encoded data removed]",
      "text/plain": [
       "<Figure size 720x720 with 1 Axes>"
      ]
     },
     "metadata": {
      "needs_background": "light"
     },
     "output_type": "display_data"
    }
   ],
   "source": [
    "from sklearn.cluster import KMeans\n",
    "from sklearn import metrics\n",
    "from scipy.spatial.distance import cdist\n",
    "import numpy as np\n",
    "import matplotlib.pyplot as plt\n",
    "\n",
    "x1 = sample_pca[:,0]\n",
    "x2 = sample_pca[:,1]\n",
    "\n",
    "# create new plot and data\n",
    "fig, ax = plt.subplots(1, 1, figsize=(10,10))\n",
    "X = np.array(list(zip(x1, x2))).reshape(len(x1), 2)\n",
    "colors = ['b', 'g', 'r']\n",
    "markers = ['o', 'v', 's']\n",
    "\n",
    "# k means determine k\n",
    "distortions = []\n",
    "K = range(1,10)\n",
    "for k in K:\n",
    "    kmeanModel = KMeans(n_clusters=k).fit(X)\n",
    "    kmeanModel.fit(X)\n",
    "    distortions.append(sum(np.min(cdist(X, kmeanModel.cluster_centers_, 'euclidean'), axis=1)) / X.shape[0])\n",
    "\n",
    "# Plot the elbow\n",
    "ax.plot(K, distortions, 'bx-')\n",
    "ax.set_xlabel('k')\n",
    "ax.set_ylabel('Distortion')\n",
    "ax.set_title('The Elbow Method showing the optimal k')\n",
    "plt.show()"
   ]
  },
  {
   "cell_type": "code",
   "execution_count": 29,
   "id": "f5061b17",
   "metadata": {},
   "outputs": [],
   "source": [
    "import plotly.express as px"
   ]
  },
  {
   "cell_type": "code",
   "execution_count": 30,
   "id": "ec52c050",
   "metadata": {},
   "outputs": [
    {
     "data": {
      "application/vnd.plotly.v1+json": {
       "config": {
        "plotlyServerURL": "https://plot.ly"
       },
       "data": [
        {
         "customdata": [
          [
           "MWU Clinics"
          ],
          [
           "Western Health"
          ],
          [
           "Ruby Memorial Hospital"
          ],
          [
           "Vidant Health"
          ],
          [
           "UHNJ"
          ],
          [
           "Downstate"
          ],
          [
           "Good Samaritan Medical"
          ],
          [
           "Grady Health"
          ],
          [
           "Health TAMU"
          ],
          [
           "UW Health"
          ],
          [
           "MHealth Fairview"
          ],
          [
           "Howard"
          ],
          [
           "UNM Health"
          ],
          [
           "Keck Medicine"
          ],
          [
           "RFU Clinics"
          ],
          [
           "University of Lousiville"
          ],
          [
           "UI Healthcare"
          ],
          [
           "UCF Lake Nona Medical Center"
          ],
          [
           "University of California"
          ],
          [
           "Nebraska Med"
          ],
          [
           "Yale New Haven Hospital"
          ],
          [
           "BSW Health"
          ],
          [
           "Marshall"
          ],
          [
           "Tulane"
          ],
          [
           "Utah Healthcare"
          ],
          [
           "Nashville General"
          ],
          [
           "Unity Point"
          ],
          [
           "Navicent Health"
          ],
          [
           "Duke Health"
          ],
          [
           "ETSU Health"
          ],
          [
           "OSU Medical Center"
          ],
          [
           "JPS Health"
          ],
          [
           "VUMC"
          ],
          [
           "CU Medicine"
          ],
          [
           "Florida International"
          ],
          [
           "UC Davis"
          ],
          [
           "Kaleida Health"
          ],
          [
           "HSC"
          ],
          [
           "VCU Health"
          ],
          [
           "Augusta Health"
          ]
         ],
         "hovertemplate": "<b>%{hovertext}</b><br><br>Principal Component 1=%{x}<br>Principal Component 2=%{y}<br>Name=%{customdata[0]}<extra></extra>",
         "hovertext": [
          "MWU Clinics",
          "Western Health",
          "Ruby Memorial Hospital",
          "Vidant Health",
          "UHNJ",
          "Downstate",
          "Good Samaritan Medical",
          "Grady Health",
          "Health TAMU",
          "UW Health",
          "MHealth Fairview",
          "Howard",
          "UNM Health",
          "Keck Medicine",
          "RFU Clinics",
          "University of Lousiville",
          "UI Healthcare",
          "UCF Lake Nona Medical Center",
          "University of California",
          "Nebraska Med",
          "Yale New Haven Hospital",
          "BSW Health",
          "Marshall",
          "Tulane",
          "Utah Healthcare",
          "Nashville General",
          "Unity Point",
          "Navicent Health",
          "Duke Health",
          "ETSU Health",
          "OSU Medical Center",
          "JPS Health",
          "VUMC",
          "CU Medicine",
          "Florida International",
          "UC Davis",
          "Kaleida Health",
          "HSC",
          "VCU Health",
          "Augusta Health"
         ],
         "legendgroup": "",
         "marker": {
          "color": "#636efa",
          "symbol": "circle"
         },
         "mode": "markers",
         "name": "",
         "orientation": "v",
         "showlegend": false,
         "type": "scatter",
         "x": [
          0.4131925706187916,
          -1.3382965511901503,
          1.1981980489193316,
          0.7316954953030304,
          0.8569169514810447,
          -0.2628870271029786,
          -0.35402185738179215,
          1.0057719302832027,
          -0.9263475714037365,
          0.6565942705595603,
          -0.009796608765078959,
          -0.5108468605701839,
          0.3591111262819897,
          1.5710906780720628,
          -1.3005509002540836,
          -0.7225478520759646,
          -0.4964392741424999,
          -1.9595538906188965,
          -0.6203532337729488,
          -0.48431288751850243,
          0.7731840670103518,
          -1.7420440321423956,
          1.7425613317312578,
          0.6079674463047317,
          5.642634286883438,
          -1.732854337512731,
          1.6556914758088361,
          0.8782461527900405,
          0.9196136508712994,
          -1.4903620326478388,
          -1.5355553870276166,
          1.0081041200646754,
          -1.4563895818334802,
          -1.3674039086521643,
          -2.493563702149292,
          -0.4276807714510133,
          -0.15517726781350674,
          -0.1721718925186751,
          -2.469369614807431,
          4.007953440369317
         ],
         "xaxis": "x",
         "y": [
          -0.832817289318209,
          -0.10075041476491157,
          -0.9393159007838834,
          0.7900776741031696,
          -0.29824510433273305,
          -0.4593567357228216,
          -0.6818449961029014,
          0.6420452538860313,
          -1.3804141133711545,
          0.9962287451304385,
          0.4513450409911019,
          -0.6619896377789904,
          0.4208567251735636,
          -0.3842756082506821,
          -0.6956157273094722,
          -0.8569125621644753,
          -1.3471744635786302,
          1.6527539792374126,
          -0.12348336580904035,
          -0.5297529530307559,
          -1.3088721493439908,
          2.4486121697353274,
          0.40590993448370594,
          -1.1555539506237622,
          1.016682404594177,
          3.0772875771939194,
          0.16995438109701502,
          0.10156871527954281,
          0.1377575943405296,
          2.5614301565544153,
          -2.8425227446137384,
          -0.34515842639806865,
          0.343764185607722,
          -0.5688893868097006,
          -1.7111057820774538,
          -0.2732786291778048,
          -1.3184167858158464,
          -0.3023763169968903,
          2.6987929087357383,
          1.2030555980321092
         ],
         "yaxis": "y"
        }
       ],
       "layout": {
        "legend": {
         "tracegroupgap": 0
        },
        "margin": {
         "t": 60
        },
        "template": {
         "data": {
          "bar": [
           {
            "error_x": {
             "color": "#2a3f5f"
            },
            "error_y": {
             "color": "#2a3f5f"
            },
            "marker": {
             "line": {
              "color": "#E5ECF6",
              "width": 0.5
             },
             "pattern": {
              "fillmode": "overlay",
              "size": 10,
              "solidity": 0.2
             }
            },
            "type": "bar"
           }
          ],
          "barpolar": [
           {
            "marker": {
             "line": {
              "color": "#E5ECF6",
              "width": 0.5
             },
             "pattern": {
              "fillmode": "overlay",
              "size": 10,
              "solidity": 0.2
             }
            },
            "type": "barpolar"
           }
          ],
          "carpet": [
           {
            "aaxis": {
             "endlinecolor": "#2a3f5f",
             "gridcolor": "white",
             "linecolor": "white",
             "minorgridcolor": "white",
             "startlinecolor": "#2a3f5f"
            },
            "baxis": {
             "endlinecolor": "#2a3f5f",
             "gridcolor": "white",
             "linecolor": "white",
             "minorgridcolor": "white",
             "startlinecolor": "#2a3f5f"
            },
            "type": "carpet"
           }
          ],
          "choropleth": [
           {
            "colorbar": {
             "outlinewidth": 0,
             "ticks": ""
            },
            "type": "choropleth"
           }
          ],
          "contour": [
           {
            "colorbar": {
             "outlinewidth": 0,
             "ticks": ""
            },
            "colorscale": [
             [
              0,
              "#0d0887"
             ],
             [
              0.1111111111111111,
              "#46039f"
             ],
             [
              0.2222222222222222,
              "#7201a8"
             ],
             [
              0.3333333333333333,
              "#9c179e"
             ],
             [
              0.4444444444444444,
              "#bd3786"
             ],
             [
              0.5555555555555556,
              "#d8576b"
             ],
             [
              0.6666666666666666,
              "#ed7953"
             ],
             [
              0.7777777777777778,
              "#fb9f3a"
             ],
             [
              0.8888888888888888,
              "#fdca26"
             ],
             [
              1,
              "#f0f921"
             ]
            ],
            "type": "contour"
           }
          ],
          "contourcarpet": [
           {
            "colorbar": {
             "outlinewidth": 0,
             "ticks": ""
            },
            "type": "contourcarpet"
           }
          ],
          "heatmap": [
           {
            "colorbar": {
             "outlinewidth": 0,
             "ticks": ""
            },
            "colorscale": [
             [
              0,
              "#0d0887"
             ],
             [
              0.1111111111111111,
              "#46039f"
             ],
             [
              0.2222222222222222,
              "#7201a8"
             ],
             [
              0.3333333333333333,
              "#9c179e"
             ],
             [
              0.4444444444444444,
              "#bd3786"
             ],
             [
              0.5555555555555556,
              "#d8576b"
             ],
             [
              0.6666666666666666,
              "#ed7953"
             ],
             [
              0.7777777777777778,
              "#fb9f3a"
             ],
             [
              0.8888888888888888,
              "#fdca26"
             ],
             [
              1,
              "#f0f921"
             ]
            ],
            "type": "heatmap"
           }
          ],
          "heatmapgl": [
           {
            "colorbar": {
             "outlinewidth": 0,
             "ticks": ""
            },
            "colorscale": [
             [
              0,
              "#0d0887"
             ],
             [
              0.1111111111111111,
              "#46039f"
             ],
             [
              0.2222222222222222,
              "#7201a8"
             ],
             [
              0.3333333333333333,
              "#9c179e"
             ],
             [
              0.4444444444444444,
              "#bd3786"
             ],
             [
              0.5555555555555556,
              "#d8576b"
             ],
             [
              0.6666666666666666,
              "#ed7953"
             ],
             [
              0.7777777777777778,
              "#fb9f3a"
             ],
             [
              0.8888888888888888,
              "#fdca26"
             ],
             [
              1,
              "#f0f921"
             ]
            ],
            "type": "heatmapgl"
           }
          ],
          "histogram": [
           {
            "marker": {
             "pattern": {
              "fillmode": "overlay",
              "size": 10,
              "solidity": 0.2
             }
            },
            "type": "histogram"
           }
          ],
          "histogram2d": [
           {
            "colorbar": {
             "outlinewidth": 0,
             "ticks": ""
            },
            "colorscale": [
             [
              0,
              "#0d0887"
             ],
             [
              0.1111111111111111,
              "#46039f"
             ],
             [
              0.2222222222222222,
              "#7201a8"
             ],
             [
              0.3333333333333333,
              "#9c179e"
             ],
             [
              0.4444444444444444,
              "#bd3786"
             ],
             [
              0.5555555555555556,
              "#d8576b"
             ],
             [
              0.6666666666666666,
              "#ed7953"
             ],
             [
              0.7777777777777778,
              "#fb9f3a"
             ],
             [
              0.8888888888888888,
              "#fdca26"
             ],
             [
              1,
              "#f0f921"
             ]
            ],
            "type": "histogram2d"
           }
          ],
          "histogram2dcontour": [
           {
            "colorbar": {
             "outlinewidth": 0,
             "ticks": ""
            },
            "colorscale": [
             [
              0,
              "#0d0887"
             ],
             [
              0.1111111111111111,
              "#46039f"
             ],
             [
              0.2222222222222222,
              "#7201a8"
             ],
             [
              0.3333333333333333,
              "#9c179e"
             ],
             [
              0.4444444444444444,
              "#bd3786"
             ],
             [
              0.5555555555555556,
              "#d8576b"
             ],
             [
              0.6666666666666666,
              "#ed7953"
             ],
             [
              0.7777777777777778,
              "#fb9f3a"
             ],
             [
              0.8888888888888888,
              "#fdca26"
             ],
             [
              1,
              "#f0f921"
             ]
            ],
            "type": "histogram2dcontour"
           }
          ],
          "mesh3d": [
           {
            "colorbar": {
             "outlinewidth": 0,
             "ticks": ""
            },
            "type": "mesh3d"
           }
          ],
          "parcoords": [
           {
            "line": {
             "colorbar": {
              "outlinewidth": 0,
              "ticks": ""
             }
            },
            "type": "parcoords"
           }
          ],
          "pie": [
           {
            "automargin": true,
            "type": "pie"
           }
          ],
          "scatter": [
           {
            "marker": {
             "colorbar": {
              "outlinewidth": 0,
              "ticks": ""
             }
            },
            "type": "scatter"
           }
          ],
          "scatter3d": [
           {
            "line": {
             "colorbar": {
              "outlinewidth": 0,
              "ticks": ""
             }
            },
            "marker": {
             "colorbar": {
              "outlinewidth": 0,
              "ticks": ""
             }
            },
            "type": "scatter3d"
           }
          ],
          "scattercarpet": [
           {
            "marker": {
             "colorbar": {
              "outlinewidth": 0,
              "ticks": ""
             }
            },
            "type": "scattercarpet"
           }
          ],
          "scattergeo": [
           {
            "marker": {
             "colorbar": {
              "outlinewidth": 0,
              "ticks": ""
             }
            },
            "type": "scattergeo"
           }
          ],
          "scattergl": [
           {
            "marker": {
             "colorbar": {
              "outlinewidth": 0,
              "ticks": ""
             }
            },
            "type": "scattergl"
           }
          ],
          "scattermapbox": [
           {
            "marker": {
             "colorbar": {
              "outlinewidth": 0,
              "ticks": ""
             }
            },
            "type": "scattermapbox"
           }
          ],
          "scatterpolar": [
           {
            "marker": {
             "colorbar": {
              "outlinewidth": 0,
              "ticks": ""
             }
            },
            "type": "scatterpolar"
           }
          ],
          "scatterpolargl": [
           {
            "marker": {
             "colorbar": {
              "outlinewidth": 0,
              "ticks": ""
             }
            },
            "type": "scatterpolargl"
           }
          ],
          "scatterternary": [
           {
            "marker": {
             "colorbar": {
              "outlinewidth": 0,
              "ticks": ""
             }
            },
            "type": "scatterternary"
           }
          ],
          "surface": [
           {
            "colorbar": {
             "outlinewidth": 0,
             "ticks": ""
            },
            "colorscale": [
             [
              0,
              "#0d0887"
             ],
             [
              0.1111111111111111,
              "#46039f"
             ],
             [
              0.2222222222222222,
              "#7201a8"
             ],
             [
              0.3333333333333333,
              "#9c179e"
             ],
             [
              0.4444444444444444,
              "#bd3786"
             ],
             [
              0.5555555555555556,
              "#d8576b"
             ],
             [
              0.6666666666666666,
              "#ed7953"
             ],
             [
              0.7777777777777778,
              "#fb9f3a"
             ],
             [
              0.8888888888888888,
              "#fdca26"
             ],
             [
              1,
              "#f0f921"
             ]
            ],
            "type": "surface"
           }
          ],
          "table": [
           {
            "cells": {
             "fill": {
              "color": "#EBF0F8"
             },
             "line": {
              "color": "white"
             }
            },
            "header": {
             "fill": {
              "color": "#C8D4E3"
             },
             "line": {
              "color": "white"
             }
            },
            "type": "table"
           }
          ]
         },
         "layout": {
          "annotationdefaults": {
           "arrowcolor": "#2a3f5f",
           "arrowhead": 0,
           "arrowwidth": 1
          },
          "autotypenumbers": "strict",
          "coloraxis": {
           "colorbar": {
            "outlinewidth": 0,
            "ticks": ""
           }
          },
          "colorscale": {
           "diverging": [
            [
             0,
             "#8e0152"
            ],
            [
             0.1,
             "#c51b7d"
            ],
            [
             0.2,
             "#de77ae"
            ],
            [
             0.3,
             "#f1b6da"
            ],
            [
             0.4,
             "#fde0ef"
            ],
            [
             0.5,
             "#f7f7f7"
            ],
            [
             0.6,
             "#e6f5d0"
            ],
            [
             0.7,
             "#b8e186"
            ],
            [
             0.8,
             "#7fbc41"
            ],
            [
             0.9,
             "#4d9221"
            ],
            [
             1,
             "#276419"
            ]
           ],
           "sequential": [
            [
             0,
             "#0d0887"
            ],
            [
             0.1111111111111111,
             "#46039f"
            ],
            [
             0.2222222222222222,
             "#7201a8"
            ],
            [
             0.3333333333333333,
             "#9c179e"
            ],
            [
             0.4444444444444444,
             "#bd3786"
            ],
            [
             0.5555555555555556,
             "#d8576b"
            ],
            [
             0.6666666666666666,
             "#ed7953"
            ],
            [
             0.7777777777777778,
             "#fb9f3a"
            ],
            [
             0.8888888888888888,
             "#fdca26"
            ],
            [
             1,
             "#f0f921"
            ]
           ],
           "sequentialminus": [
            [
             0,
             "#0d0887"
            ],
            [
             0.1111111111111111,
             "#46039f"
            ],
            [
             0.2222222222222222,
             "#7201a8"
            ],
            [
             0.3333333333333333,
             "#9c179e"
            ],
            [
             0.4444444444444444,
             "#bd3786"
            ],
            [
             0.5555555555555556,
             "#d8576b"
            ],
            [
             0.6666666666666666,
             "#ed7953"
            ],
            [
             0.7777777777777778,
             "#fb9f3a"
            ],
            [
             0.8888888888888888,
             "#fdca26"
            ],
            [
             1,
             "#f0f921"
            ]
           ]
          },
          "colorway": [
           "#636efa",
           "#EF553B",
           "#00cc96",
           "#ab63fa",
           "#FFA15A",
           "#19d3f3",
           "#FF6692",
           "#B6E880",
           "#FF97FF",
           "#FECB52"
          ],
          "font": {
           "color": "#2a3f5f"
          },
          "geo": {
           "bgcolor": "white",
           "lakecolor": "white",
           "landcolor": "#E5ECF6",
           "showlakes": true,
           "showland": true,
           "subunitcolor": "white"
          },
          "hoverlabel": {
           "align": "left"
          },
          "hovermode": "closest",
          "mapbox": {
           "style": "light"
          },
          "paper_bgcolor": "white",
          "plot_bgcolor": "#E5ECF6",
          "polar": {
           "angularaxis": {
            "gridcolor": "white",
            "linecolor": "white",
            "ticks": ""
           },
           "bgcolor": "#E5ECF6",
           "radialaxis": {
            "gridcolor": "white",
            "linecolor": "white",
            "ticks": ""
           }
          },
          "scene": {
           "xaxis": {
            "backgroundcolor": "#E5ECF6",
            "gridcolor": "white",
            "gridwidth": 2,
            "linecolor": "white",
            "showbackground": true,
            "ticks": "",
            "zerolinecolor": "white"
           },
           "yaxis": {
            "backgroundcolor": "#E5ECF6",
            "gridcolor": "white",
            "gridwidth": 2,
            "linecolor": "white",
            "showbackground": true,
            "ticks": "",
            "zerolinecolor": "white"
           },
           "zaxis": {
            "backgroundcolor": "#E5ECF6",
            "gridcolor": "white",
            "gridwidth": 2,
            "linecolor": "white",
            "showbackground": true,
            "ticks": "",
            "zerolinecolor": "white"
           }
          },
          "shapedefaults": {
           "line": {
            "color": "#2a3f5f"
           }
          },
          "ternary": {
           "aaxis": {
            "gridcolor": "white",
            "linecolor": "white",
            "ticks": ""
           },
           "baxis": {
            "gridcolor": "white",
            "linecolor": "white",
            "ticks": ""
           },
           "bgcolor": "#E5ECF6",
           "caxis": {
            "gridcolor": "white",
            "linecolor": "white",
            "ticks": ""
           }
          },
          "title": {
           "x": 0.05
          },
          "xaxis": {
           "automargin": true,
           "gridcolor": "white",
           "linecolor": "white",
           "ticks": "",
           "title": {
            "standoff": 15
           },
           "zerolinecolor": "white",
           "zerolinewidth": 2
          },
          "yaxis": {
           "automargin": true,
           "gridcolor": "white",
           "linecolor": "white",
           "ticks": "",
           "title": {
            "standoff": 15
           },
           "zerolinecolor": "white",
           "zerolinewidth": 2
          }
         }
        },
        "xaxis": {
         "anchor": "y",
         "domain": [
          0,
          1
         ],
         "title": {
          "text": "Principal Component 1"
         }
        },
        "yaxis": {
         "anchor": "x",
         "domain": [
          0,
          1
         ],
         "title": {
          "text": "Principal Component 2"
         }
        }
       }
      },
      "text/html": [
       "<div>                            <div id=\"ef9e1059-39e1-4ba0-94b4-99fa7fcb0400\" class=\"plotly-graph-div\" style=\"height:525px; width:100%;\"></div>            <script type=\"text/javascript\">                require([\"plotly\"], function(Plotly) {                    window.PLOTLYENV=window.PLOTLYENV || {};                                    if (document.getElementById(\"ef9e1059-39e1-4ba0-94b4-99fa7fcb0400\")) {                    Plotly.newPlot(                        \"ef9e1059-39e1-4ba0-94b4-99fa7fcb0400\",                        [{\"customdata\":[[\"MWU Clinics\"],[\"Western Health\"],[\"Ruby Memorial Hospital\"],[\"Vidant Health\"],[\"UHNJ\"],[\"Downstate\"],[\"Good Samaritan Medical\"],[\"Grady Health\"],[\"Health TAMU\"],[\"UW Health\"],[\"MHealth Fairview\"],[\"Howard\"],[\"UNM Health\"],[\"Keck Medicine\"],[\"RFU Clinics\"],[\"University of Lousiville\"],[\"UI Healthcare\"],[\"UCF Lake Nona Medical Center\"],[\"University of California\"],[\"Nebraska Med\"],[\"Yale New Haven Hospital\"],[\"BSW Health\"],[\"Marshall\"],[\"Tulane\"],[\"Utah Healthcare\"],[\"Nashville General\"],[\"Unity Point\"],[\"Navicent Health\"],[\"Duke Health\"],[\"ETSU Health\"],[\"OSU Medical Center\"],[\"JPS Health\"],[\"VUMC\"],[\"CU Medicine\"],[\"Florida International\"],[\"UC Davis\"],[\"Kaleida Health\"],[\"HSC\"],[\"VCU Health\"],[\"Augusta Health\"]],\"hovertemplate\":\"<b>%{hovertext}</b><br><br>Principal Component 1=%{x}<br>Principal Component 2=%{y}<br>Name=%{customdata[0]}<extra></extra>\",\"hovertext\":[\"MWU Clinics\",\"Western Health\",\"Ruby Memorial Hospital\",\"Vidant Health\",\"UHNJ\",\"Downstate\",\"Good Samaritan Medical\",\"Grady Health\",\"Health TAMU\",\"UW Health\",\"MHealth Fairview\",\"Howard\",\"UNM Health\",\"Keck Medicine\",\"RFU Clinics\",\"University of Lousiville\",\"UI Healthcare\",\"UCF Lake Nona Medical Center\",\"University of California\",\"Nebraska Med\",\"Yale New Haven Hospital\",\"BSW Health\",\"Marshall\",\"Tulane\",\"Utah Healthcare\",\"Nashville General\",\"Unity Point\",\"Navicent Health\",\"Duke Health\",\"ETSU Health\",\"OSU Medical Center\",\"JPS Health\",\"VUMC\",\"CU Medicine\",\"Florida International\",\"UC Davis\",\"Kaleida Health\",\"HSC\",\"VCU Health\",\"Augusta Health\"],\"legendgroup\":\"\",\"marker\":{\"color\":\"#636efa\",\"symbol\":\"circle\"},\"mode\":\"markers\",\"name\":\"\",\"orientation\":\"v\",\"showlegend\":false,\"type\":\"scatter\",\"x\":[0.4131925706187916,-1.3382965511901503,1.1981980489193316,0.7316954953030304,0.8569169514810447,-0.2628870271029786,-0.35402185738179215,1.0057719302832027,-0.9263475714037365,0.6565942705595603,-0.009796608765078959,-0.5108468605701839,0.3591111262819897,1.5710906780720628,-1.3005509002540836,-0.7225478520759646,-0.4964392741424999,-1.9595538906188965,-0.6203532337729488,-0.48431288751850243,0.7731840670103518,-1.7420440321423956,1.7425613317312578,0.6079674463047317,5.642634286883438,-1.732854337512731,1.6556914758088361,0.8782461527900405,0.9196136508712994,-1.4903620326478388,-1.5355553870276166,1.0081041200646754,-1.4563895818334802,-1.3674039086521643,-2.493563702149292,-0.4276807714510133,-0.15517726781350674,-0.1721718925186751,-2.469369614807431,4.007953440369317],\"xaxis\":\"x\",\"y\":[-0.832817289318209,-0.10075041476491157,-0.9393159007838834,0.7900776741031696,-0.29824510433273305,-0.4593567357228216,-0.6818449961029014,0.6420452538860313,-1.3804141133711545,0.9962287451304385,0.4513450409911019,-0.6619896377789904,0.4208567251735636,-0.3842756082506821,-0.6956157273094722,-0.8569125621644753,-1.3471744635786302,1.6527539792374126,-0.12348336580904035,-0.5297529530307559,-1.3088721493439908,2.4486121697353274,0.40590993448370594,-1.1555539506237622,1.016682404594177,3.0772875771939194,0.16995438109701502,0.10156871527954281,0.1377575943405296,2.5614301565544153,-2.8425227446137384,-0.34515842639806865,0.343764185607722,-0.5688893868097006,-1.7111057820774538,-0.2732786291778048,-1.3184167858158464,-0.3023763169968903,2.6987929087357383,1.2030555980321092],\"yaxis\":\"y\"}],                        {\"legend\":{\"tracegroupgap\":0},\"margin\":{\"t\":60},\"template\":{\"data\":{\"bar\":[{\"error_x\":{\"color\":\"#2a3f5f\"},\"error_y\":{\"color\":\"#2a3f5f\"},\"marker\":{\"line\":{\"color\":\"#E5ECF6\",\"width\":0.5},\"pattern\":{\"fillmode\":\"overlay\",\"size\":10,\"solidity\":0.2}},\"type\":\"bar\"}],\"barpolar\":[{\"marker\":{\"line\":{\"color\":\"#E5ECF6\",\"width\":0.5},\"pattern\":{\"fillmode\":\"overlay\",\"size\":10,\"solidity\":0.2}},\"type\":\"barpolar\"}],\"carpet\":[{\"aaxis\":{\"endlinecolor\":\"#2a3f5f\",\"gridcolor\":\"white\",\"linecolor\":\"white\",\"minorgridcolor\":\"white\",\"startlinecolor\":\"#2a3f5f\"},\"baxis\":{\"endlinecolor\":\"#2a3f5f\",\"gridcolor\":\"white\",\"linecolor\":\"white\",\"minorgridcolor\":\"white\",\"startlinecolor\":\"#2a3f5f\"},\"type\":\"carpet\"}],\"choropleth\":[{\"colorbar\":{\"outlinewidth\":0,\"ticks\":\"\"},\"type\":\"choropleth\"}],\"contour\":[{\"colorbar\":{\"outlinewidth\":0,\"ticks\":\"\"},\"colorscale\":[[0.0,\"#0d0887\"],[0.1111111111111111,\"#46039f\"],[0.2222222222222222,\"#7201a8\"],[0.3333333333333333,\"#9c179e\"],[0.4444444444444444,\"#bd3786\"],[0.5555555555555556,\"#d8576b\"],[0.6666666666666666,\"#ed7953\"],[0.7777777777777778,\"#fb9f3a\"],[0.8888888888888888,\"#fdca26\"],[1.0,\"#f0f921\"]],\"type\":\"contour\"}],\"contourcarpet\":[{\"colorbar\":{\"outlinewidth\":0,\"ticks\":\"\"},\"type\":\"contourcarpet\"}],\"heatmap\":[{\"colorbar\":{\"outlinewidth\":0,\"ticks\":\"\"},\"colorscale\":[[0.0,\"#0d0887\"],[0.1111111111111111,\"#46039f\"],[0.2222222222222222,\"#7201a8\"],[0.3333333333333333,\"#9c179e\"],[0.4444444444444444,\"#bd3786\"],[0.5555555555555556,\"#d8576b\"],[0.6666666666666666,\"#ed7953\"],[0.7777777777777778,\"#fb9f3a\"],[0.8888888888888888,\"#fdca26\"],[1.0,\"#f0f921\"]],\"type\":\"heatmap\"}],\"heatmapgl\":[{\"colorbar\":{\"outlinewidth\":0,\"ticks\":\"\"},\"colorscale\":[[0.0,\"#0d0887\"],[0.1111111111111111,\"#46039f\"],[0.2222222222222222,\"#7201a8\"],[0.3333333333333333,\"#9c179e\"],[0.4444444444444444,\"#bd3786\"],[0.5555555555555556,\"#d8576b\"],[0.6666666666666666,\"#ed7953\"],[0.7777777777777778,\"#fb9f3a\"],[0.8888888888888888,\"#fdca26\"],[1.0,\"#f0f921\"]],\"type\":\"heatmapgl\"}],\"histogram\":[{\"marker\":{\"pattern\":{\"fillmode\":\"overlay\",\"size\":10,\"solidity\":0.2}},\"type\":\"histogram\"}],\"histogram2d\":[{\"colorbar\":{\"outlinewidth\":0,\"ticks\":\"\"},\"colorscale\":[[0.0,\"#0d0887\"],[0.1111111111111111,\"#46039f\"],[0.2222222222222222,\"#7201a8\"],[0.3333333333333333,\"#9c179e\"],[0.4444444444444444,\"#bd3786\"],[0.5555555555555556,\"#d8576b\"],[0.6666666666666666,\"#ed7953\"],[0.7777777777777778,\"#fb9f3a\"],[0.8888888888888888,\"#fdca26\"],[1.0,\"#f0f921\"]],\"type\":\"histogram2d\"}],\"histogram2dcontour\":[{\"colorbar\":{\"outlinewidth\":0,\"ticks\":\"\"},\"colorscale\":[[0.0,\"#0d0887\"],[0.1111111111111111,\"#46039f\"],[0.2222222222222222,\"#7201a8\"],[0.3333333333333333,\"#9c179e\"],[0.4444444444444444,\"#bd3786\"],[0.5555555555555556,\"#d8576b\"],[0.6666666666666666,\"#ed7953\"],[0.7777777777777778,\"#fb9f3a\"],[0.8888888888888888,\"#fdca26\"],[1.0,\"#f0f921\"]],\"type\":\"histogram2dcontour\"}],\"mesh3d\":[{\"colorbar\":{\"outlinewidth\":0,\"ticks\":\"\"},\"type\":\"mesh3d\"}],\"parcoords\":[{\"line\":{\"colorbar\":{\"outlinewidth\":0,\"ticks\":\"\"}},\"type\":\"parcoords\"}],\"pie\":[{\"automargin\":true,\"type\":\"pie\"}],\"scatter\":[{\"marker\":{\"colorbar\":{\"outlinewidth\":0,\"ticks\":\"\"}},\"type\":\"scatter\"}],\"scatter3d\":[{\"line\":{\"colorbar\":{\"outlinewidth\":0,\"ticks\":\"\"}},\"marker\":{\"colorbar\":{\"outlinewidth\":0,\"ticks\":\"\"}},\"type\":\"scatter3d\"}],\"scattercarpet\":[{\"marker\":{\"colorbar\":{\"outlinewidth\":0,\"ticks\":\"\"}},\"type\":\"scattercarpet\"}],\"scattergeo\":[{\"marker\":{\"colorbar\":{\"outlinewidth\":0,\"ticks\":\"\"}},\"type\":\"scattergeo\"}],\"scattergl\":[{\"marker\":{\"colorbar\":{\"outlinewidth\":0,\"ticks\":\"\"}},\"type\":\"scattergl\"}],\"scattermapbox\":[{\"marker\":{\"colorbar\":{\"outlinewidth\":0,\"ticks\":\"\"}},\"type\":\"scattermapbox\"}],\"scatterpolar\":[{\"marker\":{\"colorbar\":{\"outlinewidth\":0,\"ticks\":\"\"}},\"type\":\"scatterpolar\"}],\"scatterpolargl\":[{\"marker\":{\"colorbar\":{\"outlinewidth\":0,\"ticks\":\"\"}},\"type\":\"scatterpolargl\"}],\"scatterternary\":[{\"marker\":{\"colorbar\":{\"outlinewidth\":0,\"ticks\":\"\"}},\"type\":\"scatterternary\"}],\"surface\":[{\"colorbar\":{\"outlinewidth\":0,\"ticks\":\"\"},\"colorscale\":[[0.0,\"#0d0887\"],[0.1111111111111111,\"#46039f\"],[0.2222222222222222,\"#7201a8\"],[0.3333333333333333,\"#9c179e\"],[0.4444444444444444,\"#bd3786\"],[0.5555555555555556,\"#d8576b\"],[0.6666666666666666,\"#ed7953\"],[0.7777777777777778,\"#fb9f3a\"],[0.8888888888888888,\"#fdca26\"],[1.0,\"#f0f921\"]],\"type\":\"surface\"}],\"table\":[{\"cells\":{\"fill\":{\"color\":\"#EBF0F8\"},\"line\":{\"color\":\"white\"}},\"header\":{\"fill\":{\"color\":\"#C8D4E3\"},\"line\":{\"color\":\"white\"}},\"type\":\"table\"}]},\"layout\":{\"annotationdefaults\":{\"arrowcolor\":\"#2a3f5f\",\"arrowhead\":0,\"arrowwidth\":1},\"autotypenumbers\":\"strict\",\"coloraxis\":{\"colorbar\":{\"outlinewidth\":0,\"ticks\":\"\"}},\"colorscale\":{\"diverging\":[[0,\"#8e0152\"],[0.1,\"#c51b7d\"],[0.2,\"#de77ae\"],[0.3,\"#f1b6da\"],[0.4,\"#fde0ef\"],[0.5,\"#f7f7f7\"],[0.6,\"#e6f5d0\"],[0.7,\"#b8e186\"],[0.8,\"#7fbc41\"],[0.9,\"#4d9221\"],[1,\"#276419\"]],\"sequential\":[[0.0,\"#0d0887\"],[0.1111111111111111,\"#46039f\"],[0.2222222222222222,\"#7201a8\"],[0.3333333333333333,\"#9c179e\"],[0.4444444444444444,\"#bd3786\"],[0.5555555555555556,\"#d8576b\"],[0.6666666666666666,\"#ed7953\"],[0.7777777777777778,\"#fb9f3a\"],[0.8888888888888888,\"#fdca26\"],[1.0,\"#f0f921\"]],\"sequentialminus\":[[0.0,\"#0d0887\"],[0.1111111111111111,\"#46039f\"],[0.2222222222222222,\"#7201a8\"],[0.3333333333333333,\"#9c179e\"],[0.4444444444444444,\"#bd3786\"],[0.5555555555555556,\"#d8576b\"],[0.6666666666666666,\"#ed7953\"],[0.7777777777777778,\"#fb9f3a\"],[0.8888888888888888,\"#fdca26\"],[1.0,\"#f0f921\"]]},\"colorway\":[\"#636efa\",\"#EF553B\",\"#00cc96\",\"#ab63fa\",\"#FFA15A\",\"#19d3f3\",\"#FF6692\",\"#B6E880\",\"#FF97FF\",\"#FECB52\"],\"font\":{\"color\":\"#2a3f5f\"},\"geo\":{\"bgcolor\":\"white\",\"lakecolor\":\"white\",\"landcolor\":\"#E5ECF6\",\"showlakes\":true,\"showland\":true,\"subunitcolor\":\"white\"},\"hoverlabel\":{\"align\":\"left\"},\"hovermode\":\"closest\",\"mapbox\":{\"style\":\"light\"},\"paper_bgcolor\":\"white\",\"plot_bgcolor\":\"#E5ECF6\",\"polar\":{\"angularaxis\":{\"gridcolor\":\"white\",\"linecolor\":\"white\",\"ticks\":\"\"},\"bgcolor\":\"#E5ECF6\",\"radialaxis\":{\"gridcolor\":\"white\",\"linecolor\":\"white\",\"ticks\":\"\"}},\"scene\":{\"xaxis\":{\"backgroundcolor\":\"#E5ECF6\",\"gridcolor\":\"white\",\"gridwidth\":2,\"linecolor\":\"white\",\"showbackground\":true,\"ticks\":\"\",\"zerolinecolor\":\"white\"},\"yaxis\":{\"backgroundcolor\":\"#E5ECF6\",\"gridcolor\":\"white\",\"gridwidth\":2,\"linecolor\":\"white\",\"showbackground\":true,\"ticks\":\"\",\"zerolinecolor\":\"white\"},\"zaxis\":{\"backgroundcolor\":\"#E5ECF6\",\"gridcolor\":\"white\",\"gridwidth\":2,\"linecolor\":\"white\",\"showbackground\":true,\"ticks\":\"\",\"zerolinecolor\":\"white\"}},\"shapedefaults\":{\"line\":{\"color\":\"#2a3f5f\"}},\"ternary\":{\"aaxis\":{\"gridcolor\":\"white\",\"linecolor\":\"white\",\"ticks\":\"\"},\"baxis\":{\"gridcolor\":\"white\",\"linecolor\":\"white\",\"ticks\":\"\"},\"bgcolor\":\"#E5ECF6\",\"caxis\":{\"gridcolor\":\"white\",\"linecolor\":\"white\",\"ticks\":\"\"}},\"title\":{\"x\":0.05},\"xaxis\":{\"automargin\":true,\"gridcolor\":\"white\",\"linecolor\":\"white\",\"ticks\":\"\",\"title\":{\"standoff\":15},\"zerolinecolor\":\"white\",\"zerolinewidth\":2},\"yaxis\":{\"automargin\":true,\"gridcolor\":\"white\",\"linecolor\":\"white\",\"ticks\":\"\",\"title\":{\"standoff\":15},\"zerolinecolor\":\"white\",\"zerolinewidth\":2}}},\"xaxis\":{\"anchor\":\"y\",\"domain\":[0.0,1.0],\"title\":{\"text\":\"Principal Component 1\"}},\"yaxis\":{\"anchor\":\"x\",\"domain\":[0.0,1.0],\"title\":{\"text\":\"Principal Component 2\"}}},                        {\"responsive\": true}                    ).then(function(){\n",
       "                            \n",
       "var gd = document.getElementById('ef9e1059-39e1-4ba0-94b4-99fa7fcb0400');\n",
       "var x = new MutationObserver(function (mutations, observer) {{\n",
       "        var display = window.getComputedStyle(gd).display;\n",
       "        if (!display || display === 'none') {{\n",
       "            console.log([gd, 'removed!']);\n",
       "            Plotly.purge(gd);\n",
       "            observer.disconnect();\n",
       "        }}\n",
       "}});\n",
       "\n",
       "// Listen for the removal of the full notebook cells\n",
       "var notebookContainer = gd.closest('#notebook-container');\n",
       "if (notebookContainer) {{\n",
       "    x.observe(notebookContainer, {childList: true});\n",
       "}}\n",
       "\n",
       "// Listen for the clearing of the current output cell\n",
       "var outputEl = gd.closest('.output');\n",
       "if (outputEl) {{\n",
       "    x.observe(outputEl, {childList: true});\n",
       "}}\n",
       "\n",
       "                        })                };                });            </script>        </div>"
      ]
     },
     "metadata": {},
     "output_type": "display_data"
    }
   ],
   "source": [
    "pca_df = pd.DataFrame(sample_pca)\n",
    "pca_df['Name'] = summary_metrics['Name']\n",
    "pca_df.columns = ['Principal Component 1', 'Principal Component 2', 'Name']\n",
    "\n",
    "fig = px.scatter(pca_df, x='Principal Component 1', y='Principal Component 2', \n",
    "                 hover_name=\"Name\", hover_data=[\"Name\"])\n",
    "\n",
    "fig.show()"
   ]
  },
  {
   "cell_type": "markdown",
   "id": "84210eb2",
   "metadata": {},
   "source": [
    "# Interactive Network Graph"
   ]
  },
  {
   "cell_type": "code",
   "execution_count": 4,
   "id": "94ebc2f3",
   "metadata": {},
   "outputs": [],
   "source": [
    "import plotly.graph_objects as go\n",
    "import networkx as nx"
   ]
  },
  {
   "cell_type": "code",
   "execution_count": 5,
   "id": "d3653ce4",
   "metadata": {},
   "outputs": [],
   "source": [
    "def build_network(name, node, edge, isolated_n=1):\n",
    "\n",
    "    #Read Data \n",
    "    with open(node, 'r') as nodecsv: # Open the file\n",
    "        nodereader = csv.reader(nodecsv) # Read the csv\n",
    "        # Retrieve the data (using Python list comprhension and list slicing to remove the header row, see footnote 3)\n",
    "        nodes = [n for n in nodereader][1:]\n",
    "\n",
    "    node_names = [n[1] for n in nodes] # Get a list of only the node names\n",
    "    \n",
    "    with open(edge, 'r') as edgecsv: # Open the file\n",
    "        edgereader = csv.reader(edgecsv) # Read the csv\n",
    "        edges = [tuple(e[1:3]) for e in edgereader][1:] # Retrieve the data\n",
    "        edges = [x for x in edges if x[0] != x[1]] # Remove circular edges; link to itself\n",
    "        \n",
    "    #Build Network\n",
    "    \n",
    "    G = nx.Graph()\n",
    "    G.add_nodes_from(node_names)\n",
    "    G.add_edges_from(edges)\n",
    "\n",
    "    #Remove isolated components\n",
    "    \n",
    "    G.remove_nodes_from(list(nx.isolates(G)))\n",
    "\n",
    "    for component in list(nx.connected_components(G)):\n",
    "        if len(component)<isolated_n:\n",
    "            for node in component:\n",
    "                G.remove_node(node)\n",
    "                \n",
    "    degree_dict = dict(G.degree(G.nodes()))\n",
    "    betweenness = nx.betweenness_centrality(G, normalized=False)\n",
    "    eigenvector = nx.eigenvector_centrality(G)\n",
    "    closeness = nx.closeness_centrality(G)\n",
    "    eccentricity = nx.eccentricity(G)\n",
    "    pr = nx.pagerank(G, alpha=0.85)\n",
    "    \n",
    "    nx.set_node_attributes(G, degree_dict, 'degree')\n",
    "    nx.set_node_attributes(G, betweenness, 'betweenness')\n",
    "    nx.set_node_attributes(G, eigenvector, 'eigenvector')\n",
    "    nx.set_node_attributes(G, closeness, 'closeness')\n",
    "    nx.set_node_attributes(G, eccentricity, 'eccentricity')\n",
    "    nx.set_node_attributes(G, pr, 'pagerank')\n",
    "    \n",
    "    degree_df = pd.DataFrame.from_dict(data = degree_dict.items())\n",
    "    degree_df.columns = ['Node', 'Degree']\n",
    "    \n",
    "    betweenness_df = pd.DataFrame.from_dict(data = betweenness.items())\n",
    "    betweenness_df.columns = ['Node', 'Betweenness']\n",
    "\n",
    "    eigenvector_df = pd.DataFrame.from_dict(data = eigenvector.items())\n",
    "    eigenvector_df.columns = ['Node', 'Eigenvector']\n",
    "\n",
    "    closeness_df = pd.DataFrame.from_dict(data = closeness.items())\n",
    "    closeness_df.columns = ['Node', 'Closeness']\n",
    "\n",
    "    eccentricity_df = pd.DataFrame.from_dict(data = eccentricity.items())\n",
    "    eccentricity_df.columns = ['Node', 'Eccentricity']\n",
    "\n",
    "    pr_df = pd.DataFrame.from_dict(data = pr.items())\n",
    "    pr_df.columns = ['Node', 'PageRank']\n",
    "    \n",
    "    node_metrics_df = reduce(lambda left,right: pd.merge(left,right,on='Node'), [degree_df, betweenness_df, eigenvector_df, closeness_df, eccentricity_df, pr_df])\n",
    "    \n",
    "    \n",
    "    pos = nx.spring_layout(G,scale=5, iterations=100),\n",
    "    \n",
    "    return G, pos[0], node_metrics_df"
   ]
  },
  {
   "cell_type": "code",
   "execution_count": 8,
   "id": "db0cbc8d",
   "metadata": {
    "scrolled": false
   },
   "outputs": [
    {
     "name": "stderr",
     "output_type": "stream",
     "text": [
      " 20%|████████▏                                | 8/40 [14:11<1:55:28, 216.52s/it]"
     ]
    },
    {
     "name": "stdout",
     "output_type": "stream",
     "text": [
      "Failed to generate Interactive Topology Map: Utah Healthcare\n"
     ]
    },
    {
     "name": "stderr",
     "output_type": "stream",
     "text": [
      " 57%|████████████████████████▋                  | 23/40 [26:04<08:30, 30.01s/it]"
     ]
    },
    {
     "name": "stdout",
     "output_type": "stream",
     "text": [
      "Failed to generate Interactive Topology Map: UCF Lake Nona Medical Center\n"
     ]
    },
    {
     "name": "stderr",
     "output_type": "stream",
     "text": [
      "\r",
      " 60%|█████████████████████████▊                 | 24/40 [26:05<05:47, 21.71s/it]"
     ]
    },
    {
     "name": "stdout",
     "output_type": "stream",
     "text": [
      "Failed to generate Interactive Topology Map: ETSU Health\n"
     ]
    },
    {
     "name": "stderr",
     "output_type": "stream",
     "text": [
      "\r",
      " 62%|██████████████████████████▉                | 25/40 [26:06<03:53, 15.55s/it]"
     ]
    },
    {
     "name": "stdout",
     "output_type": "stream",
     "text": [
      "Failed to generate Interactive Topology Map: BSW Health\n"
     ]
    },
    {
     "name": "stderr",
     "output_type": "stream",
     "text": [
      " 98%|█████████████████████████████████████████▉ | 39/40 [44:29<01:13, 73.34s/it]"
     ]
    },
    {
     "name": "stdout",
     "output_type": "stream",
     "text": [
      "Failed to generate Interactive Topology Map: Nashville General\n"
     ]
    },
    {
     "name": "stderr",
     "output_type": "stream",
     "text": [
      "100%|███████████████████████████████████████████| 40/40 [45:46<00:00, 68.66s/it]\n"
     ]
    }
   ],
   "source": [
    "for site in tqdm(unique_sites):\n",
    "    name = site\n",
    "    files_matching_name = [s for s in file_names if site in s]\n",
    "\n",
    "    node = [s for s in files_matching_name if \"Node\" in s][0]\n",
    "    edge = [s for s in files_matching_name if \"Internal\" in s][0]\n",
    "\n",
    "    if os.path.isfile(folder + \"/\" + name + \".html\"):\n",
    "        print(\"Interactive Topology Map already generated: \" + str(name))\n",
    "    else:\n",
    "        if (len(node) > 0) & (len(edge) > 0):\n",
    "            try:\n",
    "                G, pos, metrics_df = build_network(name=name, node=node, edge=edge)\n",
    "\n",
    "                # edges trace\n",
    "                edge_x = []\n",
    "                edge_y = []\n",
    "                for edge in G.edges():\n",
    "                    x0, y0 = pos[edge[0]]\n",
    "                    x1, y1 = pos[edge[1]]\n",
    "                    edge_x.append(x0)\n",
    "                    edge_x.append(x1)\n",
    "                    edge_x.append(None)\n",
    "                    edge_y.append(y0)\n",
    "                    edge_y.append(y1)\n",
    "                    edge_y.append(None)\n",
    "\n",
    "                edge_trace = go.Scatter(\n",
    "                    x=edge_x, y=edge_y,\n",
    "                    line=dict(color='black', width=1),\n",
    "                    hoverinfo='none',\n",
    "                    showlegend=False,\n",
    "                    mode='lines')\n",
    "\n",
    "                # nodes trace\n",
    "                node_x = []\n",
    "                node_y = []\n",
    "                text = []\n",
    "                for node in G.nodes():\n",
    "                    x, y = pos[node]\n",
    "                    node_x.append(x)\n",
    "                    node_y.append(y)\n",
    "                    text.append(node)\n",
    "\n",
    "                node_trace = go.Scatter(\n",
    "                    x=node_x, y=node_y,\n",
    "                    mode='markers',\n",
    "                    showlegend=False,\n",
    "                    hoverinfo='text',\n",
    "                    marker=dict(\n",
    "                        color='black',\n",
    "                        size=10,\n",
    "                        line=dict(color='black', width=1),\n",
    "                        colorscale='hot',\n",
    "                    colorbar=dict(\n",
    "                            thickness=15,\n",
    "                            title='Node Connections',\n",
    "                            xanchor='left',\n",
    "                            titleside='right')),\n",
    "                    hovertemplate = \"<br>Node: %{customdata[0]}<extra></extra>\"+\\\n",
    "                                    \"<br>Degree: %{customdata[1]: .3f}\"+\\\n",
    "                                    \"<br>Betweenness: %{customdata[2]: .3f}\"+\\\n",
    "                                    \"<br>Eigenvector: %{customdata[3]: .3f}\"+\\\n",
    "                                    \"<br>Closeness: %{customdata[4]: .3f}\"+\\\n",
    "                                    \"<br>Eccentricity: %{customdata[5]: .3f}\"+\\\n",
    "                                    \"<br>PageRank: %{customdata[6]: .3f}\",\n",
    "                    customdata = np.stack((metrics_df['Node'],\n",
    "                         metrics_df['Degree'],\n",
    "                         metrics_df['Betweenness'],\n",
    "                         metrics_df['Eigenvector'],\n",
    "                         metrics_df['Closeness'],\n",
    "                         metrics_df['Eccentricity'],\n",
    "                         metrics_df['PageRank']), axis =-1))\n",
    "\n",
    "                # layout\n",
    "                layout=go.Layout(plot_bgcolor='white',\n",
    "                                 paper_bgcolor='white',\n",
    "                                 hovermode='closest',\n",
    "                                 showlegend=False,\n",
    "                                 margin=dict(t=10, b=10, l=10, r=10, pad=0),\n",
    "                                 xaxis=dict(showgrid=False, zeroline=False, showticklabels=False),\n",
    "                                 yaxis=dict(showgrid=False, zeroline=False, showticklabels=False),\n",
    "                                )\n",
    "\n",
    "                node_adjacencies = []\n",
    "                for node, adjacencies in enumerate(G.adjacency()):\n",
    "                    node_adjacencies.append(len(adjacencies[1]))\n",
    "                node_trace.marker.color = node_adjacencies\n",
    "\n",
    "                # figure\n",
    "                fig = go.Figure(data=[edge_trace, node_trace], \n",
    "                                layout=layout)\n",
    "\n",
    "                fig.update_layout(title_text=name)\n",
    "\n",
    "                fig.write_html(folder + \"/\" + name + \".html\")\n",
    "\n",
    "\n",
    "            except:\n",
    "                print(\"Failed to generate Interactive Topology Map: \" + str(name))\n",
    "        else:\n",
    "            print(\"No Nodes or Edges Detected: \" + str(name))\n",
    "            \n",
    "            \n",
    "            \n",
    "            \n",
    "            \n",
    "\n"
   ]
  },
  {
   "cell_type": "code",
   "execution_count": 13,
   "id": "5eb44deb",
   "metadata": {},
   "outputs": [],
   "source": [
    "name = \"Nashville General\"\n",
    "files_matching_name = [s for s in file_names if site in s]\n",
    "\n",
    "node = [s for s in files_matching_name if \"Node\" in s][0]\n",
    "edge = [s for s in files_matching_name if \"Internal\" in s][0]\n",
    "\n",
    "G, pos, metrics_df = build_network(name=name, node=node, edge=edge)\n",
    "\n",
    "# edges trace\n",
    "edge_x = []\n",
    "edge_y = []\n",
    "for edge in G.edges():\n",
    "    x0, y0 = pos[edge[0]]\n",
    "    x1, y1 = pos[edge[1]]\n",
    "    edge_x.append(x0)\n",
    "    edge_x.append(x1)\n",
    "    edge_x.append(None)\n",
    "    edge_y.append(y0)\n",
    "    edge_y.append(y1)\n",
    "    edge_y.append(None)\n",
    "\n",
    "edge_trace = go.Scatter(\n",
    "    x=edge_x, y=edge_y,\n",
    "    line=dict(color='black', width=1),\n",
    "    hoverinfo='none',\n",
    "    showlegend=False,\n",
    "    mode='lines')\n",
    "\n",
    "# nodes trace\n",
    "node_x = []\n",
    "node_y = []\n",
    "text = []\n",
    "for node in G.nodes():\n",
    "    x, y = pos[node]\n",
    "    node_x.append(x)\n",
    "    node_y.append(y)\n",
    "    text.append(node)\n",
    "\n",
    "node_trace = go.Scatter(\n",
    "    x=node_x, y=node_y,\n",
    "    mode='markers',\n",
    "    showlegend=False,\n",
    "    hoverinfo='text',\n",
    "    marker=dict(\n",
    "        color='black',\n",
    "        size=10,\n",
    "        line=dict(color='black', width=1),\n",
    "        colorscale='hot',\n",
    "    colorbar=dict(\n",
    "            thickness=15,\n",
    "            title='Node Connections',\n",
    "            xanchor='left',\n",
    "            titleside='right')),\n",
    "    hovertemplate = \"<br>Node: %{customdata[0]}<extra></extra>\"+\\\n",
    "                    \"<br>Degree: %{customdata[1]: .3f}\"+\\\n",
    "                    \"<br>Betweenness: %{customdata[2]: .3f}\"+\\\n",
    "                    \"<br>Eigenvector: %{customdata[3]: .3f}\"+\\\n",
    "                    \"<br>Closeness: %{customdata[4]: .3f}\"+\\\n",
    "                    \"<br>Eccentricity: %{customdata[5]: .3f}\"+\\\n",
    "                    \"<br>PageRank: %{customdata[6]: .3f}\",\n",
    "    customdata = np.stack((metrics_df['Node'],\n",
    "         metrics_df['Degree'],\n",
    "         metrics_df['Betweenness'],\n",
    "         metrics_df['Eigenvector'],\n",
    "         metrics_df['Closeness'],\n",
    "         metrics_df['Eccentricity'],\n",
    "         metrics_df['PageRank']), axis =-1))\n",
    "\n",
    "# layout\n",
    "layout=go.Layout(plot_bgcolor='white',\n",
    "                 paper_bgcolor='white',\n",
    "                 hovermode='closest',\n",
    "                 showlegend=False,\n",
    "                 margin=dict(t=10, b=10, l=10, r=10, pad=0),\n",
    "                 xaxis=dict(showgrid=False, zeroline=False, showticklabels=False),\n",
    "                 yaxis=dict(showgrid=False, zeroline=False, showticklabels=False),\n",
    "                )\n",
    "\n",
    "node_adjacencies = []\n",
    "for node, adjacencies in enumerate(G.adjacency()):\n",
    "    node_adjacencies.append(len(adjacencies[1]))\n",
    "node_trace.marker.color = node_adjacencies\n",
    "\n",
    "# figure\n",
    "fig = go.Figure(data=[edge_trace, node_trace], \n",
    "                layout=layout)\n",
    "\n",
    "fig.update_layout(title_text=name)\n",
    "\n",
    "fig.write_html(folder + \"/\" + name + \".html\")"
   ]
  },
  {
   "cell_type": "code",
   "execution_count": null,
   "id": "53b80bf1",
   "metadata": {},
   "outputs": [],
   "source": []
  }
 ],
 "metadata": {
  "kernelspec": {
   "display_name": "Python 3 (ipykernel)",
   "language": "python",
   "name": "python3"
  },
  "language_info": {
   "codemirror_mode": {
    "name": "ipython",
    "version": 3
   },
   "file_extension": ".py",
   "mimetype": "text/x-python",
   "name": "python",
   "nbconvert_exporter": "python",
   "pygments_lexer": "ipython3",
   "version": "3.8.8"
  }
 },
 "nbformat": 4,
 "nbformat_minor": 5
}
